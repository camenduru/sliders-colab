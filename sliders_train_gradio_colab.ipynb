{
  "cells": [
    {
      "cell_type": "markdown",
      "metadata": {
        "id": "view-in-github"
      },
      "source": [
        "[![Open In Colab](https://colab.research.google.com/assets/colab-badge.svg)](https://colab.research.google.com/github/camenduru/sliders-colab/blob/main/sliders_train_gradio_colab.ipynb)"
      ]
    },
    {
      "cell_type": "code",
      "execution_count": null,
      "metadata": {},
      "outputs": [],
      "source": [
        "%cd /content\n",
        "!apt -y install -qq aria2\n",
        "!git clone -b dev https://github.com/camenduru/ConceptSliders-hf\n",
        "!pip install -q bitsandbytes==0.41.1 dadaptation==3.1 diffusers==0.20.2 lion_pytorch==0.1.2 lpips==0.1.4 prodigyopt==1.0 accelerate==0.22.0 gradio==3.50.2 wandb\n",
        "!pip install -q https://download.pytorch.org/whl/cu121/xformers-0.0.22.post7-cp310-cp310-manylinux2014_x86_64.whl\n",
        "\n",
        "!aria2c --console-log-level=error -c -x 16 -s 16 -k 1M https://huggingface.co/camenduru/xl_sliders/resolve/main/age.pt -d /content/ConceptSliders-hf/models -o age.pt\n",
        "!aria2c --console-log-level=error -c -x 16 -s 16 -k 1M https://huggingface.co/camenduru/xl_sliders/resolve/main/cartoon_style.pt -d /content/ConceptSliders-hf/models -o cartoon_style.pt\n",
        "!aria2c --console-log-level=error -c -x 16 -s 16 -k 1M https://huggingface.co/camenduru/xl_sliders/resolve/main/chubby.pt -d /content/ConceptSliders-hf/models -o chubby.pt\n",
        "!aria2c --console-log-level=error -c -x 16 -s 16 -k 1M https://huggingface.co/camenduru/xl_sliders/resolve/main/clay_style.pt -d /content/ConceptSliders-hf/models -o clay_style.pt\n",
        "!aria2c --console-log-level=error -c -x 16 -s 16 -k 1M https://huggingface.co/camenduru/xl_sliders/resolve/main/cluttered_room.pt -d /content/ConceptSliders-hf/models -o cluttered_room.pt\n",
        "!aria2c --console-log-level=error -c -x 16 -s 16 -k 1M https://huggingface.co/camenduru/xl_sliders/resolve/main/curlyhair.pt -d /content/ConceptSliders-hf/models -o curlyhair.pt\n",
        "!aria2c --console-log-level=error -c -x 16 -s 16 -k 1M https://huggingface.co/camenduru/xl_sliders/resolve/main/dark_weather.pt -d /content/ConceptSliders-hf/models -o dark_weather.pt\n",
        "!aria2c --console-log-level=error -c -x 16 -s 16 -k 1M https://huggingface.co/camenduru/xl_sliders/resolve/main/eyebrow.pt -d /content/ConceptSliders-hf/models -o eyebrow.pt\n",
        "!aria2c --console-log-level=error -c -x 16 -s 16 -k 1M https://huggingface.co/camenduru/xl_sliders/resolve/main/eyesize.pt -d /content/ConceptSliders-hf/models -o eyesize.pt\n",
        "!aria2c --console-log-level=error -c -x 16 -s 16 -k 1M https://huggingface.co/camenduru/xl_sliders/resolve/main/festive.pt -d /content/ConceptSliders-hf/models -o festive.pt\n",
        "!aria2c --console-log-level=error -c -x 16 -s 16 -k 1M https://huggingface.co/camenduru/xl_sliders/resolve/main/fix_hands.pt -d /content/ConceptSliders-hf/models -o fix_hands.pt\n",
        "!aria2c --console-log-level=error -c -x 16 -s 16 -k 1M https://huggingface.co/camenduru/xl_sliders/resolve/main/long_hair.pt -d /content/ConceptSliders-hf/models -o long_hair.pt\n",
        "!aria2c --console-log-level=error -c -x 16 -s 16 -k 1M https://huggingface.co/camenduru/xl_sliders/resolve/main/muscular.pt -d /content/ConceptSliders-hf/models -o muscular.pt\n",
        "!aria2c --console-log-level=error -c -x 16 -s 16 -k 1M https://huggingface.co/camenduru/xl_sliders/resolve/main/pixar_style.pt -d /content/ConceptSliders-hf/models -o pixar_style.pt\n",
        "!aria2c --console-log-level=error -c -x 16 -s 16 -k 1M https://huggingface.co/camenduru/xl_sliders/resolve/main/professional.pt -d /content/ConceptSliders-hf/models -o professional.pt\n",
        "!aria2c --console-log-level=error -c -x 16 -s 16 -k 1M https://huggingface.co/camenduru/xl_sliders/resolve/main/repair_slider.pt -d /content/ConceptSliders-hf/models -o repair_slider.pt\n",
        "!aria2c --console-log-level=error -c -x 16 -s 16 -k 1M https://huggingface.co/camenduru/xl_sliders/resolve/main/sculpture_style.pt -d /content/ConceptSliders-hf/models -o sculpture_style.pt\n",
        "!aria2c --console-log-level=error -c -x 16 -s 16 -k 1M https://huggingface.co/camenduru/xl_sliders/resolve/main/smiling.pt -d /content/ConceptSliders-hf/models -o smiling.pt\n",
        "!aria2c --console-log-level=error -c -x 16 -s 16 -k 1M https://huggingface.co/camenduru/xl_sliders/resolve/main/stylegan_latent1.pt -d /content/ConceptSliders-hf/models -o stylegan_latent1.pt\n",
        "!aria2c --console-log-level=error -c -x 16 -s 16 -k 1M https://huggingface.co/camenduru/xl_sliders/resolve/main/stylegan_latent2.pt -d /content/ConceptSliders-hf/models -o stylegan_latent2.pt\n",
        "!aria2c --console-log-level=error -c -x 16 -s 16 -k 1M https://huggingface.co/camenduru/xl_sliders/resolve/main/suprised_look.pt -d /content/ConceptSliders-hf/models -o suprised_look.pt\n",
        "!aria2c --console-log-level=error -c -x 16 -s 16 -k 1M https://huggingface.co/camenduru/xl_sliders/resolve/main/tropical_weather.pt -d /content/ConceptSliders-hf/models -o tropical_weather.pt\n",
        "!aria2c --console-log-level=error -c -x 16 -s 16 -k 1M https://huggingface.co/camenduru/xl_sliders/resolve/main/winter_weather.pt -d /content/ConceptSliders-hf/models -o winter_weather.pt\n",
        "\n",
        "%cd /content/ConceptSliders-hf\n",
        "!python app.py"
      ]
    }
  ],
  "metadata": {
    "accelerator": "GPU",
    "colab": {
      "gpuType": "T4",
      "provenance": []
    },
    "kernelspec": {
      "display_name": "Python 3",
      "name": "python3"
    },
    "language_info": {
      "name": "python"
    }
  },
  "nbformat": 4,
  "nbformat_minor": 0
}
